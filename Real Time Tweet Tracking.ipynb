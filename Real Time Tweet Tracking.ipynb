{
 "cells": [
  {
   "cell_type": "markdown",
   "metadata": {},
   "source": [
    "MAIN LINK -> https://github.com/afzalsayed96/TwitterLive\n",
    "\n",
    "https://github.com/sarthak0797/Live-Twitter-Sentiment-Analysis (isme main scraper file se kam hjaega shyd)\n",
    "\n",
    "https://github.com/varunu28/Twitter-HashTag-Streamer\n",
    "\n",
    "https://github.com/sonal-sannigrahi/TwitterLive (siple and small yet)"
   ]
  },
  {
   "cell_type": "code",
   "execution_count": 2,
   "metadata": {},
   "outputs": [],
   "source": [
    "\n",
    "import tweepy,json\n",
    "#access_token=\"\"\n",
    "csecret=\"8njgmX86sIfVquvyxjmtWrm95iK9ugS1tbOPTNtyCkP6eHpQME\"\n",
    "ckey=\"mUUffXtBjTu73oIAHtxJxGdpI\"\n",
    "\n",
    "# callback_uri = 'oob' # https://cfe.sh/twitter/callback\n",
    "\n",
    "\n",
    "# auth = tweepy.OAuthHandler(ckey, csecret, callback_uri)\n",
    "# redirect_url = auth.get_authorization_url()\n",
    "# print(redirect_url)"
   ]
  },
  {
   "cell_type": "code",
   "execution_count": 3,
   "metadata": {},
   "outputs": [],
   "source": [
    "# import webbrowser\n",
    "# webbrowser.open(redirect_url)\n",
    "\n",
    "# user_pint_input = input(\"What's the pin value? \")\n",
    "\n",
    "# user_pint_input\n",
    "\n",
    "# auth.get_access_token(user_pint_input)\n",
    "\n",
    "# print(auth.access_token, auth.access_token_secret)"
   ]
  },
  {
   "cell_type": "code",
   "execution_count": 4,
   "metadata": {},
   "outputs": [
    {
     "name": "stdout",
     "output_type": "stream",
     "text": [
      "1675996254-lAEltpcg4EkTFNQECA2ytxCjKiR1sLdGy7g8XAV\n",
      "x4ZA9YaeUb5qTmh3BYAPaInmgVqNDybqwcODM5BNazeED\n"
     ]
    }
   ],
   "source": [
    "# atoken=auth.access_token\n",
    "# asecret=auth.access_token_secret\n",
    "atoken = \"1675996254-lAEltpcg4EkTFNQECA2ytxCjKiR1sLdGy7g8XAV\"\n",
    "asecret = \"x4ZA9YaeUb5qTmh3BYAPaInmgVqNDybqwcODM5BNazeED\"\n",
    "print(atoken) # 1675996254-lAEltpcg4EkTFNQECA2ytxCjKiR1sLdGy7g8XAV\n",
    "print(asecret) # x4ZA9YaeUb5qTmh3BYAPaInmgVqNDybqwcODM5BNazeED\n"
   ]
  },
  {
   "cell_type": "code",
   "execution_count": null,
   "metadata": {},
   "outputs": [
    {
     "name": "stdout",
     "output_type": "stream",
     "text": [
      "30\n",
      "29\n",
      "29\n",
      "29\n",
      "29\n"
     ]
    }
   ],
   "source": [
    "from tweepy import Stream\n",
    "from tweepy import OAuthHandler\n",
    "from tweepy.streaming import StreamListener\n",
    "# importing the csv module\n",
    "import csv\n",
    "import datetime\n",
    "import json\n",
    "import os\n",
    "# from vaderSentiment.vaderSentiment import SentimentIntensityAnalyzer\n",
    "\n",
    "# analyser = SentimentIntensityAnalyzer()\n",
    "\n",
    "#consumer key, consumer secret, access token, access secret.\n",
    "# ckey=\"\"\n",
    "# csecret=\"\"\n",
    "# atoken=\"-\"\n",
    "# asecret=\"\"\n",
    "\n",
    "def insights():\n",
    "    \n",
    "    current_time = datetime.datetime.utcnow().strftime(\"%H:%M\")\n",
    "    \n",
    "\n",
    "class listener(StreamListener):\n",
    "\n",
    "    def on_data(self, data):\n",
    "        all_data = json.loads(data)\n",
    "        print(len(all_data))\n",
    "        Elon_Musk_Flag = []\n",
    "        tweet = all_data[\"text\"]\n",
    "        \n",
    "        username = all_data[\"user\"][\"screen_name\"]\n",
    "        if(username == 'elonmusk'):\n",
    "            Elon_Musk_Flag.append(1)\n",
    "        else:\n",
    "            Elon_Musk_Flag.append(0)\n",
    "#         print(username, Elon_Musk_Flag)\n",
    "        date = all_data[\"created_at\"]\n",
    "\n",
    "        followers = all_data[\"user\"][\"followers_count\"]\n",
    "        \n",
    "        if all_data[\"user\"][\"verified\"]:\n",
    "            verified = 'Yes'\n",
    "        else:\n",
    "            verified = 'No'\n",
    "\n",
    "        retweet = all_data[\"retweet_count\"]\n",
    "\n",
    "        name = all_data[\"user\"][\"name\"]\n",
    "                            \n",
    "        tweet_url = 'https://twitter.com/'+all_data[\"user\"][\"screen_name\"]+'/status/'+str(all_data[\"id\"])\n",
    "#         fields = ['Date','Name', 'Username', 'Tweet', 'Followers', 'Verified', 'URL', 'Retweets']\n",
    "        \n",
    "        fields_sheet_1 = ['Date','Tweet', 'Followers','Elon_Musk_Flag' 'URL']\n",
    "        fields_sheet_2 = ['Date','Tweet', 'Followers','Elon_Musk_Flag' 'URL']\n",
    "        \n",
    "        # data rows of csv file\n",
    "#         rows = [ [date, name, username, tweet, followers, verified,tweet_url, retweet]]\n",
    "        rows_sheet_1 = [ [date, tweet, followers, Elon_Musk_Flag, tweet_url]]\n",
    "        rows_sheet_2 = [ [date, tweet, followers, Elon_Musk_Flag, tweet_url]]\n",
    "        \n",
    "        # name of csv file\n",
    "        filename = datetime.datetime.now().strftime(\"%Y-%m-%d\")+\".csv\"\n",
    "        \n",
    "        \n",
    "        # writing to csv file\n",
    "        with open(filename, 'a+') as csvfile:\n",
    "            # creating a csv writer object\n",
    "            csvwriter = csv.writer(csvfile)\n",
    "            \n",
    "            # writing the fields\n",
    "            if not(os.path.exists(filename) and os.path.getsize(filename) > 0):\n",
    "                csvwriter.writerow(fields_sheet_1)\n",
    "            \n",
    "            # writing the data rows\n",
    "            csvwriter.writerows(rows_sheet_1)\n",
    "\n",
    "#         print((date,username,tweet, followers,Elon_Musk_Flag))\n",
    "#         print(len(all_data))\n",
    "        insights()\n",
    "        return True\n",
    "\n",
    "    def on_error(self, status):\n",
    "        print (status)\n",
    "\n",
    "auth = OAuthHandler(ckey, csecret)\n",
    "auth.set_access_token(atoken, asecret)\n",
    "#Enter Your keywords here\n",
    "keywords = [\"python\"]\n",
    "\n",
    "import time\n",
    "while(True):\n",
    "    twitterStream = Stream(auth, listener())\n",
    "    twitterStream.filter(track=keywords)\n",
    "    time.sleep(300)"
   ]
  },
  {
   "cell_type": "code",
   "execution_count": null,
   "metadata": {},
   "outputs": [],
   "source": []
  },
  {
   "cell_type": "code",
   "execution_count": null,
   "metadata": {},
   "outputs": [],
   "source": []
  }
 ],
 "metadata": {
  "kernelspec": {
   "display_name": "Python 3",
   "language": "python",
   "name": "python3"
  },
  "language_info": {
   "codemirror_mode": {
    "name": "ipython",
    "version": 3
   },
   "file_extension": ".py",
   "mimetype": "text/x-python",
   "name": "python",
   "nbconvert_exporter": "python",
   "pygments_lexer": "ipython3",
   "version": "3.6.9"
  }
 },
 "nbformat": 4,
 "nbformat_minor": 4
}
